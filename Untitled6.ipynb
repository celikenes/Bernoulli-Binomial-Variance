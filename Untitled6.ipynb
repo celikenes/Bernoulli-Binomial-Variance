{
  "nbformat": 4,
  "nbformat_minor": 0,
  "metadata": {
    "colab": {
      "name": "Untitled6.ipynb",
      "version": "0.3.2",
      "provenance": [],
      "include_colab_link": true
    },
    "kernelspec": {
      "name": "python3",
      "display_name": "Python 3"
    }
  },
  "cells": [
    {
      "cell_type": "markdown",
      "metadata": {
        "id": "view-in-github",
        "colab_type": "text"
      },
      "source": [
        "<a href=\"https://colab.research.google.com/github/celikenes/Bernoulli-Binomial-Variance/blob/master/Untitled6.ipynb\" target=\"_parent\"><img src=\"https://colab.research.google.com/assets/colab-badge.svg\" alt=\"Open In Colab\"/></a>"
      ]
    },
    {
      "cell_type": "markdown",
      "metadata": {
        "id": "7NFU1rTAPVqb",
        "colab_type": "text"
      },
      "source": [
        "## Bernoulli-Binomial-Variance\n",
        "\n",
        "## Soru:\n",
        "\n",
        "Ameliyat edilen hasta sayisi 10'dur, iyilesme olasiligi % 80'dir yani % 80 basarilidir.\n",
        "\n",
        "6 hastanin iyilesme olasiligi nedir?\n",
        "\n",
        "##Cozum:\n",
        "\n",
        "X~Bin (n=10, p=0.8)\n",
        "\n",
        "P(X=k) = C (n,k) * p^k * (1-p)^n-k \n",
        "\n",
        "P(X=6) = C (10,6) * 0.8^6 * (1-0.8)^10-6"
      ]
    },
    {
      "cell_type": "code",
      "metadata": {
        "id": "iIpjDEpRP3w2",
        "colab_type": "code",
        "colab": {
          "base_uri": "https://localhost:8080/",
          "height": 34
        },
        "outputId": "4d080148-4fc4-4a16-ece1-ff7e68ffecfc"
      },
      "source": [
        "\"\"\"\"\n",
        "degiskenler:\n",
        "calc_combination: kombinasyon hesaplayan fonksiyon\n",
        "first: C(n,r) deki n degeri\n",
        "second: C(n,r) deki r degeri\n",
        "minus: C(n,r) paydadaki eksili deger (n-r)!\n",
        "first_fac, secon_fac, minus_fac: kombinasyon fonksiyonundaki faktoriyeller \n",
        "combination_result: kombinasyon donus degeri\n",
        "calc_power: ilgili sayinin kuvvetini bulan fonksiyon\n",
        "number, up, output: calc_power fonsiyonuna sayi, kuvvet, donus degeri\n",
        "n: ameliyat olan hasta sayisi\n",
        "k: hasta sayisi \n",
        "p: iyilesme olasiligi\n",
        "com1,2,3: formuldeki carpanlar\n",
        "probability: olasilik degeri\n",
        "\"\"\"\n",
        "def calc_power (number,up):\n",
        "    \n",
        "    output = 1\n",
        "    \n",
        "    while up != 0:\n",
        "        output = output * number\n",
        "        up = up - 1\n",
        "        \n",
        "    return output\n",
        "\n",
        "def calc_combination(first, second):\n",
        "\n",
        "    minus = first - second\n",
        "\n",
        "    first_fac = 1\n",
        "    secon_fac = 1\n",
        "    minus_fac = 1\n",
        "\n",
        "    while first != 1:\n",
        "        first_fac = first * first_fac\n",
        "        first = first - 1\n",
        "\n",
        "    while second != 1:\n",
        "        secon_fac = second * secon_fac\n",
        "        second = second - 1\n",
        "\n",
        "    while minus != 1:\n",
        "        minus_fac = minus * minus_fac\n",
        "        minus = minus - 1\n",
        "\n",
        "    combination_result = first_fac / (secon_fac * minus_fac)\n",
        "\n",
        "    return combination_result\n",
        "\n",
        "n = 10 \n",
        "k = 6   \n",
        "p = 0.8\n",
        "\n",
        "com1 = calc_combination (n,k)\n",
        "com2 = calc_power(p,k)\n",
        "com3 = calc_power((1-p),(n-k))\n",
        "probability = com1 * com2 * com3\n",
        "\n",
        "print(\"iyilesme olasiligi: \",probability)\n"
      ],
      "execution_count": 5,
      "outputs": [
        {
          "output_type": "stream",
          "text": [
            "iyilesme olasiligi:  0.08808038399999996\n"
          ],
          "name": "stdout"
        }
      ]
    },
    {
      "cell_type": "markdown",
      "metadata": {
        "id": "iOQJggBzQLXt",
        "colab_type": "text"
      },
      "source": [
        "## Soru:\n",
        "\n",
        "Ameliyat edilen hasta sayisi 10'dur, iyilesme olasiligi % 80'dir yani % 80 basarilidir.\n",
        "\n",
        "En az 9 hastanin iyilesme olasiligi nedir?\n",
        "\n",
        "## Cozum:\n",
        "\n",
        "X~Bin (n=10, p=0.8)\n",
        "\n",
        "P(X>=9) = P(X=9) + P(X=10)\n",
        "\n",
        "P(X>=k) = [ C (n,k) * p^k * (1-p)^n-k ] + [ C (n,k) * p^k * (1-p)^n-k ] \n",
        "\n",
        "P(X>=9) = [ C (10,9) * 0.8^9 * (1-0.8)^10-9 ] + [ C (10,10) * 0.8^10 * (1-0.8)^10-10 ] "
      ]
    },
    {
      "cell_type": "code",
      "metadata": {
        "id": "ZcrI_cKIRedP",
        "colab_type": "code",
        "colab": {
          "base_uri": "https://localhost:8080/",
          "height": 34
        },
        "outputId": "1a22cfd5-3f45-4df1-e183-935f9bfcf24b"
      },
      "source": [
        "\"\"\"\"\n",
        "degiskenler:\n",
        "calc_combination: kombinasyon hesaplayan fonksiyon\n",
        "first: C(n,r) deki n degeri\n",
        "second: C(n,r) deki r degeri\n",
        "minus: C(n,r) paydadaki eksili deger (n-r)!\n",
        "first_fac, secon_fac, minus_fac: kombinasyon fonksiyonundaki faktoriyeller \n",
        "combination_result: kombinasyon donus degeri\n",
        "calc_power: ilgili sayinin kuvvetini bulan fonksiyon\n",
        "number, up, output: calc_power fonsiyonuna sayi, kuvvet, donus degeri\n",
        "n: ameliyat olan hasta sayisi\n",
        "k: hasta sayisi \n",
        "p: iyilesme olasiligi\n",
        "com1,2,3: formuldeki carpanlar\n",
        "probability: olasilik degeri\n",
        "\"\"\"\n",
        "def calc_power (number,up):\n",
        "    \n",
        "    output = 1\n",
        "    \n",
        "    if (up==0): \n",
        "        output = 1\n",
        "    \n",
        "    while up != 0:\n",
        "        output = output * number\n",
        "        up = up - 1\n",
        "\n",
        "    return output\n",
        "\n",
        "def calc_combination(first, second):\n",
        "\n",
        "    minus = first - second\n",
        "    \n",
        "    if (minus==0):\n",
        "        minus_fac = 1\n",
        "        minus = 1\n",
        "    \n",
        "    first_fac = 1\n",
        "    secon_fac = 1\n",
        "    minus_fac = 1\n",
        "    \n",
        "    while first != 1:\n",
        "        first_fac = first * first_fac\n",
        "        first = first - 1\n",
        "\n",
        "    while second != 1:\n",
        "        secon_fac = second * secon_fac\n",
        "        second = second - 1\n",
        "\n",
        "    while minus != 1:\n",
        "        minus_fac = minus * minus_fac\n",
        "        minus = minus - 1\n",
        "\n",
        "    combination_result = first_fac / (secon_fac * minus_fac)\n",
        "\n",
        "    return combination_result\n",
        "\n",
        "n = 10 \n",
        "k = 9\n",
        "p = 0.8\n",
        "\n",
        "com1 = calc_combination (n,k)\n",
        "com2 = calc_power(p,k) \n",
        "com3 = calc_power((1-p),(n-k))\n",
        "probability = com1 * com2 * com3\n",
        "\n",
        "com4 = calc_combination (n,k+1)\n",
        "com5 = calc_power(p,k+1)\n",
        "com6 = calc_power((1-p),(n-(k+1)))\n",
        "probability2 = com4 * com5 * com6\n",
        "\n",
        "print(\"iyilesme olasiligi: \", probability + probability2)"
      ],
      "execution_count": 6,
      "outputs": [
        {
          "output_type": "stream",
          "text": [
            "iyilesme olasiligi:  0.37580963840000015\n"
          ],
          "name": "stdout"
        }
      ]
    },
    {
      "cell_type": "markdown",
      "metadata": {
        "id": "fmaFjgSwUWJ1",
        "colab_type": "text"
      },
      "source": [
        "## Soru:\n",
        "\n",
        "Ameliyat edilen hasta sayisi 10'dur, iyilesme olasiligi % 80'dir yani % 80 basarilidir.\n",
        "\n",
        "Ameliyet basari ile sonuclanacak hastalarin beklenen sayisi ve varyansi nedir?\n",
        "\n",
        "## Cozum:\n",
        "\n",
        "X~Bin (n=10, p=0.8)\n",
        "\n",
        "E(X) = n*p = 10 * (0.8)\n",
        "\n",
        "Var(X) = n * p * (1 - p) = 10 * (0.8) * (0.2)"
      ]
    },
    {
      "cell_type": "code",
      "metadata": {
        "id": "7usAgobIUnKJ",
        "colab_type": "code",
        "colab": {
          "base_uri": "https://localhost:8080/",
          "height": 34
        },
        "outputId": "21c1746b-807f-4aeb-fea6-1b70fbfd7593"
      },
      "source": [
        "\"\"\"\n",
        "degiskenler:\n",
        "n: ameliyat olan hasta sayisi\n",
        "k: hasta sayisi \n",
        "p: iyilesme olasiligi\n",
        "\n",
        "\"\"\"\n",
        "n = 10\n",
        "p = 0.8\n",
        "\n",
        "e = n * p\n",
        "var = n * p * (1 - p) \n",
        "print(\"beklenen deger: \", e, \"varyans:\", var)\n"
      ],
      "execution_count": 7,
      "outputs": [
        {
          "output_type": "stream",
          "text": [
            "beklenen deger:  8.0 varyans: 1.5999999999999996\n"
          ],
          "name": "stdout"
        }
      ]
    }
  ]
}